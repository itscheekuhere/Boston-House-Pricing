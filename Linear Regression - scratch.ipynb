{
 "cells": [
  {
   "cell_type": "markdown",
   "metadata": {},
   "source": [
    "### Import Libraries"
   ]
  },
  {
   "cell_type": "code",
   "execution_count": null,
   "metadata": {},
   "outputs": [],
   "source": [
    "import numpy as np\n",
    "import pandas as pd\n",
    "import matplotlib.pyplot as plt"
   ]
  },
  {
   "cell_type": "markdown",
   "metadata": {},
   "source": [
    "### Read Dataset"
   ]
  },
  {
   "cell_type": "code",
   "execution_count": null,
   "metadata": {},
   "outputs": [],
   "source": [
    "data = pd.read_csv('data/train.csv')"
   ]
  },
  {
   "cell_type": "code",
   "execution_count": null,
   "metadata": {},
   "outputs": [],
   "source": [
    "data.tail()"
   ]
  },
  {
   "cell_type": "code",
   "execution_count": null,
   "metadata": {},
   "outputs": [],
   "source": [
    "data.shape"
   ]
  },
  {
   "cell_type": "markdown",
   "metadata": {},
   "source": [
    "### Feature Selection"
   ]
  },
  {
   "cell_type": "code",
   "execution_count": null,
   "metadata": {},
   "outputs": [],
   "source": [
    "X = data['rm'].values\n",
    "y = data['medv'].values"
   ]
  },
  {
   "cell_type": "markdown",
   "metadata": {},
   "source": [
    "### Data Visualization"
   ]
  },
  {
   "cell_type": "code",
   "execution_count": null,
   "metadata": {},
   "outputs": [],
   "source": [
    "print(y)"
   ]
  },
  {
   "cell_type": "code",
   "execution_count": null,
   "metadata": {},
   "outputs": [],
   "source": [
    "plt.plot(X, y, 'r.')\n",
    "plt.xlabel('Average number of rooms per dwelling')\n",
    "plt.ylabel('Median value of homes in $1000s')\n",
    "plt.show()"
   ]
  },
  {
   "cell_type": "code",
   "execution_count": null,
   "metadata": {},
   "outputs": [],
   "source": [
    "X = np.column_stack((np.ones(len(X)), X))\n",
    "y = y.reshape(-1,  1)\n",
    "theta = np.random.randn(2,1)"
   ]
  },
  {
   "cell_type": "code",
   "execution_count": null,
   "metadata": {
    "scrolled": true
   },
   "outputs": [],
   "source": [
    "print(X[:5])"
   ]
  },
  {
   "cell_type": "code",
   "execution_count": 10,
   "metadata": {},
   "outputs": [
    {
     "name": "stdout",
     "output_type": "stream",
     "text": [
      "[[24. ]\n",
      " [21.6]\n",
      " [33.4]\n",
      " [36.2]\n",
      " [22.9]]\n"
     ]
    }
   ],
   "source": [
    "print(y[:5])"
   ]
  },
  {
   "cell_type": "code",
   "execution_count": 11,
   "metadata": {},
   "outputs": [
    {
     "name": "stdout",
     "output_type": "stream",
     "text": [
      "[[ 0.34065409]\n",
      " [-0.0300971 ]]\n"
     ]
    }
   ],
   "source": [
    "print(theta)"
   ]
  },
  {
   "cell_type": "markdown",
   "metadata": {},
   "source": [
    "### Train-Test split"
   ]
  },
  {
   "cell_type": "code",
   "execution_count": 12,
   "metadata": {},
   "outputs": [
    {
     "name": "stdout",
     "output_type": "stream",
     "text": [
      "X_train \t:  (233, 2)\n",
      "X_test  \t:  (100, 2)\n",
      "y_train \t:  (233, 1)\n",
      "y_test  \t:  (100, 1)\n"
     ]
    }
   ],
   "source": [
    "index = np.arange(len(X))\n",
    "np.random.shuffle(index)\n",
    "\n",
    "train_split = int(0.7*len(X))\n",
    "\n",
    "\n",
    "X_train = X[index[:train_split]]\n",
    "X_test = X[index[train_split:]]\n",
    "y_train = y[index[:train_split]]\n",
    "y_test = y[index[train_split:]]\n",
    "\n",
    "print(\"X_train \\t: \", X_train.shape)\n",
    "print(\"X_test  \\t: \", X_test.shape)\n",
    "print(\"y_train \\t: \", y_train.shape)\n",
    "print(\"y_test  \\t: \", y_test.shape)"
   ]
  },
  {
   "cell_type": "markdown",
   "metadata": {},
   "source": [
    "### Hypothesis\n",
    "<img src='../images/hypothesis.png'></img>"
   ]
  },
  {
   "cell_type": "code",
   "execution_count": 13,
   "metadata": {},
   "outputs": [],
   "source": [
    "def hypothesis(X, theta):\n",
    "    h = np.dot(X, theta)\n",
    "    return h"
   ]
  },
  {
   "cell_type": "markdown",
   "metadata": {},
   "source": [
    "### Cost Function\n",
    "<img src='../images/cost function.png'></img>"
   ]
  },
  {
   "cell_type": "code",
   "execution_count": 14,
   "metadata": {},
   "outputs": [],
   "source": [
    "def cost(X, y, theta):\n",
    "    h = hypothesis(X, theta)\n",
    "    J = np.mean((h-y)**2) / 2\n",
    "    return J"
   ]
  },
  {
   "cell_type": "markdown",
   "metadata": {},
   "source": [
    "### Gradient Descent\n",
    "<img src='../images/gradient descent.png'></img>\n",
    "<img src='../images/gradient descent formula2.png'></img>"
   ]
  },
  {
   "cell_type": "code",
   "execution_count": null,
   "metadata": {},
   "outputs": [],
   "source": [
    "def plot_hypothesis(X, y, theta):\n",
    "    X1 = X[:, 1].reshape(-1, 1)\n",
    "    plt.plot(X1, y, 'r.')\n",
    "    plt.plot(X1, hypothesis(X, theta))\n",
    "    plt.xlabel('Average number of rooms per dwelling')\n",
    "    plt.ylabel('Median value of homes in $1000s')\n",
    "    plt.show()"
   ]
  },
  {
   "cell_type": "code",
   "execution_count": null,
   "metadata": {},
   "outputs": [],
   "source": [
    "def optimize(X, y, theta, lr, n_iter):\n",
    "    X0 = X[:, 0].reshape(-1, 1)\n",
    "    X1 = X[:, 1].reshape(-1, 1)\n",
    "    cost_hist = []\n",
    "    for i in range(1, n_iter+1):\n",
    "        h = hypothesis(X, theta)\n",
    "        theta[0] = theta[0] - lr * np.mean((h - y)*X0)\n",
    "        theta[1] = theta[1] - lr * np.mean((h - y)*X1)\n",
    "        \n",
    "        if(i%50 == 0):\n",
    "            J = cost(X, y, theta)\n",
    "            cost_hist.append(J)\n",
    "            print('\\nIteration : ', i, ',\\tCost : ', J)\n",
    "        \n",
    "    return cost_hist"
   ]
  },
  {
   "cell_type": "code",
   "execution_count": null,
   "metadata": {},
   "outputs": [],
   "source": [
    "cost_hist = optimize(X_train, y_train, theta, 0.04, 10000)"
   ]
  },
  {
   "cell_type": "code",
   "execution_count": null,
   "metadata": {},
   "outputs": [],
   "source": [
    "plt.plot(cost_hist)\n",
    "plt.xlabel('Iteration')\n",
    "plt.ylabel('Cost')\n",
    "plt.xticks([])\n",
    "plt.yticks([])\n",
    "plt.show()"
   ]
  },
  {
   "cell_type": "code",
   "execution_count": null,
   "metadata": {},
   "outputs": [],
   "source": [
    "plot_hypothesis(X_test, y_test, theta)"
   ]
  },
  {
   "cell_type": "code",
   "execution_count": null,
   "metadata": {},
   "outputs": [],
   "source": []
  },
  {
   "cell_type": "code",
   "execution_count": null,
   "metadata": {},
   "outputs": [],
   "source": []
  },
  {
   "cell_type": "code",
   "execution_count": null,
   "metadata": {},
   "outputs": [],
   "source": []
  },
  {
   "cell_type": "code",
   "execution_count": null,
   "metadata": {},
   "outputs": [],
   "source": []
  },
  {
   "cell_type": "code",
   "execution_count": null,
   "metadata": {},
   "outputs": [],
   "source": []
  }
 ],
 "metadata": {
  "kernelspec": {
   "display_name": "Python 3",
   "language": "python",
   "name": "python3"
  },
  "language_info": {
   "codemirror_mode": {
    "name": "ipython",
    "version": 3
   },
   "file_extension": ".py",
   "mimetype": "text/x-python",
   "name": "python",
   "nbconvert_exporter": "python",
   "pygments_lexer": "ipython3",
   "version": "3.7.3"
  }
 },
 "nbformat": 4,
 "nbformat_minor": 2
}
